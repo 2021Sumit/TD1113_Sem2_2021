{
  "nbformat": 4,
  "nbformat_minor": 0,
  "metadata": {
    "colab": {
      "name": "Exercise 2.ipynb",
      "provenance": [],
      "authorship_tag": "ABX9TyPEdPwNOYeQgruE8uMoZIAl",
      "include_colab_link": true
    },
    "kernelspec": {
      "name": "python3",
      "display_name": "Python 3"
    },
    "language_info": {
      "name": "python"
    }
  },
  "cells": [
    {
      "cell_type": "markdown",
      "metadata": {
        "id": "view-in-github",
        "colab_type": "text"
      },
      "source": [
        "<a href=\"https://colab.research.google.com/github/2021Sumit/TD1113_Sem2_2021/blob/main/Exercise_2.ipynb\" target=\"_parent\"><img src=\"https://colab.research.google.com/assets/colab-badge.svg\" alt=\"Open In Colab\"/></a>"
      ]
    },
    {
      "cell_type": "code",
      "metadata": {
        "colab": {
          "base_uri": "https://localhost:8080/"
        },
        "id": "mPp0SjruLv8C",
        "outputId": "4b20624a-cd03-4515-8906-c86e10ba7889"
      },
      "source": [
        "# 1. Take this value of pi and print three blocks of three numbers each after the decimal 3.141592654\n",
        "pi=\"3.141592654\"\n",
        "#b=block\n",
        "b1=pi[2:5]; b2=pi[5:8]; b3=pi[8:11]\n",
        "print(b1, b2, b3)"
      ],
      "execution_count": null,
      "outputs": [
        {
          "output_type": "stream",
          "text": [
            "141 592 654\n"
          ],
          "name": "stdout"
        }
      ]
    },
    {
      "cell_type": "code",
      "metadata": {
        "colab": {
          "base_uri": "https://localhost:8080/"
        },
        "id": "C0vWbFwjvtvF",
        "outputId": "115d6368-8632-45e0-9831-df3601aa279f"
      },
      "source": [
        "#2. Take this string \"madam i'm adam\" and print it backwards. :)  okay start with this string \"His test went well\" , and print each word backwords.\n",
        "#The output should be \"sih tset tnew llew\" and nothing else.\n",
        "str1=\"madam i'm adam\"\n",
        "print(str1[::-1])\n",
        "print()\n",
        "str2=\"His test went well\"\n",
        "str2bw1, str2bw2, str2bw3, str2bw4=str2[0:3], str2[4:8], str2[9:13], str2[14:18]\n",
        "print(str2bw1[::-1], str2bw2[::-1], str2bw3[::-1], str2bw4[::-1])"
      ],
      "execution_count": null,
      "outputs": [
        {
          "output_type": "stream",
          "text": [
            "mada m'i madam\n",
            "\n",
            "siH tset tnew llew\n"
          ],
          "name": "stdout"
        }
      ]
    },
    {
      "cell_type": "code",
      "metadata": {
        "id": "J89IbD0k22J_",
        "colab": {
          "base_uri": "https://localhost:8080/"
        },
        "outputId": "47391de9-8a64-450c-8c18-3ca88ba05443"
      },
      "source": [
        "from math import*\n",
        "#projectile motion\n",
        "vi=30\n",
        "theta_deg=60\n",
        "theta=theta_deg*pi/180\n",
        "g=9.8\n",
        "print(f\"vi = {vi} m/s; theta = {theta_deg} degree; accleration due to gravity = {g} m/s^2 on earth\")\n",
        "print()\n",
        "# (a)Find its maximum height and the time it takes to reach that height.\n",
        "max_height=(vi**2)*((sin(theta)**2))/(2*g)\n",
        "print(f\"max height = {max_height} m\")\n",
        "time_max_height=(vi*sin(theta))/g\n",
        "print(f\"time to max height = {time_max_height} s\")\n",
        "print()\n",
        "#(b)Find its maximum range\n",
        "max_range= vi**2*sin(2*theta)/g\n",
        "print(f\"max range = {max_range} m\")\n",
        "print()\n",
        "#(c)Find its total time of flight, and the time at which the ball reaches 80% of its maximum height.\n",
        "total_time=2*time_max_height\n",
        "print(f\"total time of flight = {total_time} s\")\n",
        "d=vi**2 - 4*0.5*g*0.8*max_height\n",
        "det=sqrt(d)\n",
        "time_80_max_height = (vi - det )/g \n",
        "print(f\"time to 80% of max height = {time_80_max_height} s\")\n",
        "print()\n",
        "#(d)Take a fixed angle, and different velocities (10 m/s, 50 m/s, 100 m/s) and tabulate the time of flight and height.\n",
        "print(f'fix angle = {theta_deg} degree')\n",
        "vi1, vi2 , vi3 = 10, 50, 100\n",
        "print(f'velocity(m/s):     {vi1}                 {vi2}                {vi3}')\n",
        "time1 , time2, time3 = 2*(vi1*sin(theta))/g, 2*(vi2*sin(theta))/g, 2*(vi3*sin(theta))/g\n",
        "print(f'time of flight(s): {time1}  {time2}  {time3}')\n",
        "height1, height2, height3 = (vi1**2)*((sin(theta)**2))/(2*g), (vi2**2)*((sin(theta)**2))/(2*g), (vi3**2)*((sin(theta)**2))/(2*g)\n",
        "print(f'height(m):         {height1}  {height2}  {height3}')\n",
        "print()\n",
        "max_range_10, max_range_100 = vi1**2/g, vi3**2/g\n",
        "print(f'max range for velocities 10 m/s and 100 m/s are {max_range_10} m and {max_range_100} m respectively both at the angle theta = 45 degree' )\n",
        "print()\n",
        "print(\"(e)How do the answers look if the ball is thrown on the moon instead of the Earth?\")\n",
        "print(\"Chage the value of g \")"
      ],
      "execution_count": null,
      "outputs": [
        {
          "output_type": "stream",
          "text": [
            "vi = 30 m/s; theta = 60 degree; accleration due to gravity = 9.8 m/s^2 on earth\n",
            "\n",
            "max height = 34.438775510204074 m\n",
            "time to max height = 2.651098174850322 s\n",
            "\n",
            "max range = 79.53294524550967 m\n",
            "\n",
            "total time of flight = 5.302196349700644 s\n",
            "time to 80% of max height = 1.1251361264275224 s\n",
            "\n",
            "fix angle = 60 degree\n",
            "velocity(m/s):     10                 50                100\n",
            "time of flight(s): 1.767398783233548  8.83699391616774  17.67398783233548\n",
            "height(m):         3.826530612244897  95.66326530612243  382.6530612244897\n",
            "\n",
            "max range for velocities 10 m/s and 100 m/s are 10.204081632653061 m and 1020.408163265306 m respectively both at the angle theta = 45 degree\n",
            "\n",
            "(e)How do the answers look if the ball is thrown on the moon instead of the Earth?\n",
            "Chage the value of g \n"
          ],
          "name": "stdout"
        }
      ]
    }
  ]
}