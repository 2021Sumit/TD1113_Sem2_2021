{
  "nbformat": 4,
  "nbformat_minor": 0,
  "metadata": {
    "colab": {
      "name": "Exercise 3.ipynb",
      "provenance": [],
      "authorship_tag": "ABX9TyPUSbeCdICHf2lbjFyD5KL7",
      "include_colab_link": true
    },
    "kernelspec": {
      "name": "python3",
      "display_name": "Python 3"
    },
    "language_info": {
      "name": "python"
    }
  },
  "cells": [
    {
      "cell_type": "markdown",
      "metadata": {
        "id": "view-in-github",
        "colab_type": "text"
      },
      "source": [
        "<a href=\"https://colab.research.google.com/github/2021Sumit/TD1113_Sem2_2021/blob/main/Exercise_3.ipynb\" target=\"_parent\"><img src=\"https://colab.research.google.com/assets/colab-badge.svg\" alt=\"Open In Colab\"/></a>"
      ]
    },
    {
      "cell_type": "code",
      "execution_count": 3,
      "metadata": {
        "colab": {
          "base_uri": "https://localhost:8080/"
        },
        "id": "YGXC5F5iDw4e",
        "outputId": "eac45425-dd4c-4050-8a3f-45be5f531b65"
      },
      "outputs": [
        {
          "output_type": "stream",
          "name": "stdout",
          "text": [
            "Hello World!\n"
          ]
        }
      ],
      "source": [
        "#Print command\n",
        "print(\"Hello World!\")"
      ]
    },
    {
      "cell_type": "code",
      "source": [
        "#Try it with single quotes, try mixing single and double quotes.\n",
        "print('Hello World!')\n",
        "print('\"Hello World!\"')\n",
        "print(\"'Hello World!\")"
      ],
      "metadata": {
        "colab": {
          "base_uri": "https://localhost:8080/"
        },
        "id": "IiQGnVc6Ev2u",
        "outputId": "b7dbe980-6132-4411-c09d-0372aeaf66c9"
      },
      "execution_count": 4,
      "outputs": [
        {
          "output_type": "stream",
          "name": "stdout",
          "text": [
            "Hello World!\n",
            "\"Hello World!\"\n",
            "'Hello World!\n"
          ]
        }
      ]
    },
    {
      "cell_type": "code",
      "source": [
        "#Printing with f-strings\n",
        "myname = \"indiranagar ka gunda\"\n",
        "print(f\" {myname} hoon main.\")"
      ],
      "metadata": {
        "colab": {
          "base_uri": "https://localhost:8080/"
        },
        "id": "RH-xHgnLE4XG",
        "outputId": "6f6be03d-93da-4c29-c59b-1d5298613bf1"
      },
      "execution_count": 5,
      "outputs": [
        {
          "output_type": "stream",
          "name": "stdout",
          "text": [
            " indiranagar ka gunda hoon main.\n"
          ]
        }
      ]
    },
    {
      "cell_type": "code",
      "source": [
        "#Try it with single/double quotes.\n",
        "myname = 'indiranagar ka gunda' #or myname = \"indiranagar ka gunda\" double quotes!\n",
        "print(f'{myname} hoon main.')"
      ],
      "metadata": {
        "colab": {
          "base_uri": "https://localhost:8080/"
        },
        "id": "vSMmZCSSFWOL",
        "outputId": "c5015c40-e7ef-455e-e80d-d907c93abcd4"
      },
      "execution_count": 7,
      "outputs": [
        {
          "output_type": "stream",
          "name": "stdout",
          "text": [
            "indiranagar ka gunda hoon main.\n"
          ]
        }
      ]
    },
    {
      "cell_type": "code",
      "source": [
        "#Try printing more than one variable (more than one {} in a print statement)\n",
        "var1 = 2\n",
        "var2 = 3\n",
        "print(f\" {var1}+{var2} = {var1+var2}\")"
      ],
      "metadata": {
        "colab": {
          "base_uri": "https://localhost:8080/"
        },
        "id": "8jbDPiOTF09b",
        "outputId": "f6da2c1d-589d-42a0-ac1c-1c7b881837c5"
      },
      "execution_count": 8,
      "outputs": [
        {
          "output_type": "stream",
          "name": "stdout",
          "text": [
            " 2+3 = 5\n"
          ]
        }
      ]
    },
    {
      "cell_type": "code",
      "source": [
        "#What happens if you do, var1 = \"2\" var2 = \"3\"  \n",
        "var1 = \"2\"\n",
        "var2 = \"3\"\n",
        "print(f\" {var1}+{var2} = {var1+var2}\")"
      ],
      "metadata": {
        "colab": {
          "base_uri": "https://localhost:8080/"
        },
        "id": "heICXbLXGI7K",
        "outputId": "7c386d99-7051-4a9a-bfa9-659b1aebe9b6"
      },
      "execution_count": 9,
      "outputs": [
        {
          "output_type": "stream",
          "name": "stdout",
          "text": [
            " 2+3 = 23\n"
          ]
        }
      ]
    }
  ]
}