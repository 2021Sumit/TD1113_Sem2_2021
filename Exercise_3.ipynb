{
  "nbformat": 4,
  "nbformat_minor": 0,
  "metadata": {
    "colab": {
      "name": "Exercise 3.ipynb",
      "provenance": [],
      "authorship_tag": "ABX9TyPfAN0HkJA6mu4aPRp8pH4F",
      "include_colab_link": true
    },
    "kernelspec": {
      "name": "python3",
      "display_name": "Python 3"
    },
    "language_info": {
      "name": "python"
    }
  },
  "cells": [
    {
      "cell_type": "markdown",
      "metadata": {
        "id": "view-in-github",
        "colab_type": "text"
      },
      "source": [
        "<a href=\"https://colab.research.google.com/github/2021Sumit/TD1113_Sem2_2021/blob/main/Exercise_3.ipynb\" target=\"_parent\"><img src=\"https://colab.research.google.com/assets/colab-badge.svg\" alt=\"Open In Colab\"/></a>"
      ]
    },
    {
      "cell_type": "markdown",
      "source": [
        "In the first three exercises, we shall practice if conditions,\n",
        "along with slicing strings, and taking input from user."
      ],
      "metadata": {
        "id": "zus2eUbUy59S"
      }
    },
    {
      "cell_type": "markdown",
      "source": [
        "1. Write a temperature convertor. Ask the user for temperature: if she enters \"32C\", \n",
        "convert it to Fahreneheit and display the answer, if she enters \"80F\", convert it \n",
        "to Celsius and display the answer.\n",
        "  If the user enters temperature in any other format, give a warning message.\n",
        "  (Allowed format examples: 32C, 20.5F, 27.4c, 90f )"
      ],
      "metadata": {
        "id": "qDQfBig_zFW0"
      }
    },
    {
      "cell_type": "code",
      "source": [
        ""
      ],
      "metadata": {
        "id": "Dde57uAVzHj-"
      },
      "execution_count": null,
      "outputs": []
    }
  ]
}